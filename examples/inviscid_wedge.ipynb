{
 "cells": [
  {
   "attachments": {},
   "cell_type": "markdown",
   "metadata": {},
   "source": [
    "# Meshing"
   ]
  },
  {
   "attachments": {},
   "cell_type": "markdown",
   "metadata": {},
   "source": [
    "## Inviscid Wedge\n",
    "![Inviscid Wedge Mesh](../assets/inviscid_wedge_mesh.png)\n",
    "![Inviscid Wedge](../assets/inviscid_wedge.png)\n",
    "\n",
    "https://su2code.github.io/tutorials/Inviscid_Wedge/"
   ]
  },
  {
   "cell_type": "code",
   "execution_count": 1,
   "metadata": {},
   "outputs": [
    {
     "name": "stdout",
     "output_type": "stream",
     "text": [
      "Info    : Meshing 1D...\n",
      "Info    : [  0%] Meshing curve 1 (Line)\n",
      "Info    : [ 20%] Meshing curve 2 (Line)\n",
      "Info    : [ 40%] Meshing curve 3 (Line)\n",
      "Info    : [ 60%] Meshing curve 4 (Line)\n",
      "Info    : [ 80%] Meshing curve 5 (Line)\n",
      "Info    : Done meshing 1D (Wall 0.000392488s, CPU 0.000839s)\n",
      "Info    : Meshing 2D...\n",
      "Info    : Meshing surface 1 (Transfinite)\n",
      "Info    : Done meshing 2D (Wall 0.0180259s, CPU 0.008869s)\n",
      "Info    : Meshing 3D...\n",
      "Info    : Done meshing 3D (Wall 1.9569e-05s, CPU 4.9e-05s)\n",
      "Info    : 30351 nodes 60705 elements\n",
      "Info    : Writing 'mesh_wedge_inv.su2'...\n",
      "Info    : Writing 60000 elements and 30351 nodes\n",
      "Info    : Done writing 'mesh_wedge_inv.su2'\n"
     ]
    }
   ],
   "source": [
    "from ezmesh.mesh import Mesh, CurveLoop, PlaneSurface\n",
    "import numpy as np\n",
    "\n",
    "with Mesh() as mesh:\n",
    "    wedge_coords = np.array([[0, 1], [1.5, 1], [1.5, 0.2], [0.5, 0], [0, 0]])\n",
    "    wedge_curve_loop = CurveLoop(\n",
    "        wedge_coords, \n",
    "        mesh_size=0.05,\n",
    "        labels={\n",
    "            \"upper\":  [0],\n",
    "            \"lower\":  [2,3],\n",
    "            \"inlet\":  [4],\n",
    "            \"outlet\": [1],\n",
    "        },\n",
    "        transfinite_cell_counts={\n",
    "            150: [0],\n",
    "            200: [1,4],\n",
    "            100: [2],\n",
    "            50:  [3]\n",
    "        }\n",
    "    )\n",
    "    surface = PlaneSurface(wedge_curve_loop, is_quad_mesh=True, transfinite_corners=[0,1,2,4])\n",
    "    mesh.generate(surface)\n",
    "    mesh.write(\"mesh_wedge_inv.su2\")\n",
    "\n"
   ]
  }
 ],
 "metadata": {
  "kernelspec": {
   "display_name": "Python 3",
   "language": "python",
   "name": "python3"
  },
  "language_info": {
   "codemirror_mode": {
    "name": "ipython",
    "version": 3
   },
   "file_extension": ".py",
   "mimetype": "text/x-python",
   "name": "python",
   "nbconvert_exporter": "python",
   "pygments_lexer": "ipython3",
   "version": "3.10.9"
  },
  "orig_nbformat": 4,
  "vscode": {
   "interpreter": {
    "hash": "949777d72b0d2535278d3dc13498b2535136f6dfe0678499012e853ee9abcab1"
   }
  }
 },
 "nbformat": 4,
 "nbformat_minor": 2
}
